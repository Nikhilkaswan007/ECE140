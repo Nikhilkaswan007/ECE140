{
  "nbformat": 4,
  "nbformat_minor": 0,
  "metadata": {
    "colab": {
      "provenance": [],
      "toc_visible": true
    },
    "kernelspec": {
      "name": "python3",
      "display_name": "Python 3"
    },
    "language_info": {
      "name": "python"
    }
  },
  "cells": [
    {
      "cell_type": "markdown",
      "metadata": {
        "id": "8014b149"
      },
      "source": [
        "## String Slicing\n",
        "\n",
        "This code shows how to extract substrings from a string using slicing with start and end indices."
      ]
    },
    {
      "cell_type": "code",
      "metadata": {
        "id": "038a8446"
      },
      "source": [
        "a='Hello'\n",
        "print(a[0:4])\n",
        "print(a[1:3])\n",
        "print(a[3:])\n",
        "print(a[2:4])"
      ],
      "execution_count": null,
      "outputs": []
    },
    {
      "cell_type": "markdown",
      "metadata": {
        "id": "eb06cf97"
      },
      "source": [
        "## Modifying a String\n",
        "\n",
        "This code snippet illustrates how to modify a string by replacing a part of it using slicing and concatenation."
      ]
    },
    {
      "cell_type": "code",
      "metadata": {
        "colab": {
          "base_uri": "https://localhost:8080/"
        },
        "id": "9d99f349",
        "outputId": "9301818e-d8a1-43fe-82c2-e9a12cb69c2b"
      },
      "source": [
        "a='bink'\n",
        "b='P'+a[1:]\n",
        "print(b)"
      ],
      "execution_count": 2,
      "outputs": [
        {
          "output_type": "stream",
          "name": "stdout",
          "text": [
            "Pink\n"
          ]
        }
      ]
    },
    {
      "cell_type": "markdown",
      "metadata": {
        "id": "2c1ca0b9"
      },
      "source": [
        "## Replacing Characters in a String\n",
        "\n",
        "This code demonstrates replacing characters in a string by combining slicing and string concatenation."
      ]
    },
    {
      "cell_type": "code",
      "metadata": {
        "id": "eba2ee9b"
      },
      "source": [
        "a='graan'\n",
        "b=a[0:2]+'ee'+a[4:]\n",
        "print(b)"
      ],
      "execution_count": null,
      "outputs": []
    },
    {
      "cell_type": "markdown",
      "metadata": {
        "id": "566fdd08"
      },
      "source": [
        "## List Concatenation and Insertion\n",
        "\n",
        "This code shows how to concatenate lists and insert elements at specific positions using slicing."
      ]
    },
    {
      "cell_type": "code",
      "metadata": {
        "id": "281bafe3"
      },
      "source": [
        "a=[4,5,6]\n",
        "a1=[7,8,9]\n",
        "b=a+a1\n",
        "print(b)\n",
        "b[0:0]=[1,2,3]\n",
        "print(b)\n",
        "b[9:9]=[10]\n",
        "print(b)\n",
        "b.append(11)\n",
        "print(b)"
      ],
      "execution_count": null,
      "outputs": []
    },
    {
      "cell_type": "markdown",
      "metadata": {
        "id": "7fe4c082"
      },
      "source": [
        "## Finding Missing Numbers and Sorting a List\n",
        "\n",
        "This code attempts to find missing numbers in a sequence within a list and then sorts the modified list. However, the logic for finding missing numbers is not entirely correct and results in duplicate entries."
      ]
    },
    {
      "cell_type": "code",
      "metadata": {
        "id": "43e4ce14"
      },
      "source": [
        "a=[11,14,15,17,18,20]\n",
        "for i in range(a[-1]-1):\n",
        "  if a[i] != i + 1:\n",
        "    a.append(i + 1)\n",
        "a.sort()\n",
        "print(a)"
      ],
      "execution_count": null,
      "outputs": []
    },
    {
      "cell_type": "markdown",
      "metadata": {
        "id": "92e2b182"
      },
      "source": [
        "## Modifying a Tuple\n",
        "\n",
        "This code demonstrates how to modify a tuple by converting it to a list, changing an element, and then converting it back to a tuple. Tuples are immutable, so direct modification is not possible."
      ]
    },
    {
      "cell_type": "code",
      "metadata": {
        "id": "b059eec6"
      },
      "source": [
        "a = \"apple\",\"grapes\",\"mat\",\"pear\"\n",
        "a_list = list(a)\n",
        "a_list[2] = ['mango']\n",
        "a = tuple(a_list)\n",
        "print(a)"
      ],
      "execution_count": null,
      "outputs": []
    },
    {
      "cell_type": "markdown",
      "metadata": {
        "id": "0e6b652c"
      },
      "source": [
        "## Accessing Elements in a Nested List\n",
        "\n",
        "This code shows how to access elements within a nested list using multiple indices."
      ]
    },
    {
      "cell_type": "code",
      "metadata": {
        "id": "08182d4e"
      },
      "source": [
        "a=[[1,2,3],[4,5,6],[7,8,9]]\n",
        "print(a[2][:])"
      ],
      "execution_count": null,
      "outputs": []
    },
    {
      "cell_type": "markdown",
      "metadata": {
        "id": "81d87ccd"
      },
      "source": [
        "## Dictionary Operations\n",
        "\n",
        "This code demonstrates basic dictionary operations, including adding a new key-value pair and deleting a key-value pair."
      ]
    },
    {
      "cell_type": "code",
      "metadata": {
        "id": "6d71302e"
      },
      "source": [
        "a={'Ram':12,'sahil':64}\n",
        "a['reetu'] = 24\n",
        "print(a)\n",
        "del a['Ram']\n",
        "print(a)"
      ],
      "execution_count": null,
      "outputs": []
    },
    {
      "cell_type": "markdown",
      "metadata": {
        "id": "a7cb0dd2"
      },
      "source": [
        "## Factorial Calculation (Recursive)\n",
        "\n",
        "This code calculates the factorial of a number using a recursive function. The user is prompted to enter a number."
      ]
    },
    {
      "cell_type": "code",
      "metadata": {
        "id": "63c209bc"
      },
      "source": [
        "def fac(n):\n",
        "  if n==0:\n",
        "    return 1\n",
        "  elif n==1:\n",
        "    return 1\n",
        "  else:\n",
        "    return n*fac(n-1)\n",
        "n=int(input())\n",
        "print(fac(n))"
      ],
      "execution_count": null,
      "outputs": []
    },
    {
      "cell_type": "markdown",
      "metadata": {
        "id": "c16e9ba8"
      },
      "source": [
        "## Fibonacci Sequence (Recursive - Single Number)\n",
        "\n",
        "This code calculates a single Fibonacci number using a recursive function. The user is prompted to enter the index of the desired Fibonacci number. **Note:** This recursive approach can be inefficient for larger numbers due to repeated calculations."
      ]
    },
    {
      "cell_type": "code",
      "metadata": {
        "id": "c92f32d0"
      },
      "source": [
        "def Fibonacci(n):\n",
        "  if n<=1:\n",
        "    return n\n",
        "  else:\n",
        "    return Fibonacci(n-1)+Fibonacci(n-2)\n",
        "\n",
        "num=int(input())\n",
        "print(Fibonacci(num))"
      ],
      "execution_count": null,
      "outputs": []
    },
    {
      "cell_type": "markdown",
      "metadata": {
        "id": "8ebc7e2b"
      },
      "source": [
        "## Fibonacci Sequence (Iterative - List)\n",
        "\n",
        "This code generates a list containing the first `n` Fibonacci numbers using an iterative approach. This is generally more efficient than the recursive method for generating a sequence."
      ]
    },
    {
      "cell_type": "code",
      "metadata": {
        "id": "e5e9d54f"
      },
      "source": [
        "def fibonacci(n):\n",
        "    if n <= 0:\n",
        "        return []\n",
        "    elif n == 1:\n",
        "        return [0]\n",
        "    else:\n",
        "        sequence = [0, 1]\n",
        "        while len(sequence) < n:\n",
        "            next_fib = sequence[-1] + sequence[-2]\n",
        "            sequence.append(next_fib)\n",
        "        return sequence\n",
        "\n",
        "print(fibonacci(10))"
      ],
      "execution_count": null,
      "outputs": []
    },
    {
      "cell_type": "markdown",
      "metadata": {
        "id": "1fae6662"
      },
      "source": [
        "## Fibonacci Sequence (Recursive - Print First N)\n",
        "\n",
        "This code prints the first `n` Fibonacci numbers using a recursive function to calculate each number individually. Similar to the previous recursive example, this can be inefficient for larger values of `n`."
      ]
    },
    {
      "cell_type": "code",
      "metadata": {
        "id": "ff59a382"
      },
      "source": [
        "def fibonacci_recursive(n):\n",
        "    if n <= 1:\n",
        "        return n\n",
        "    else:\n",
        "        return fibonacci_recursive(n - 1) + fibonacci_recursive(n - 2)\n",
        "\n",
        "# Example usage (to get a single Fibonacci number):\n",
        "for i in range(10):\n",
        "    print(fibonacci_recursive(i), end=\" \")\n",
        "print()"
      ],
      "execution_count": null,
      "outputs": []
    }
  ]
}